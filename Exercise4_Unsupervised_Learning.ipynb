{
 "cells": [
  {
   "cell_type": "markdown",
   "metadata": {
    "collapsed": false
   },
   "source": [
    "# Fudan PRML Fall 2024 Exercise 4: Unsupervised Learning"
   ]
  },
  {
   "cell_type": "markdown",
   "metadata": {
    "collapsed": false
   },
   "source": [
    "![news](./news.png)"
   ]
  },
  {
   "cell_type": "markdown",
   "metadata": {
    "collapsed": false
   },
   "source": [
    "**Your name and Student ID:**"
   ]
  },
  {
   "cell_type": "markdown",
   "metadata": {
    "collapsed": false
   },
   "source": [
    "In this assignment, you will build a **text classification** system which is a fundamental task in the field of Natural Language Processing (NLP). More precisely, you are given a news classification task, assigning given news texts to the categories to which they belong. Unlike traditional classification tasks, **we did not provide you with any labels for this assignment, and you need to find a way to construct labels for these articles**. "
   ]
  },
  {
   "cell_type": "markdown",
   "metadata": {
    "collapsed": false
   },
   "source": [
    "For this assignment you can use commonly used deep learning frameworks like PyTorch. **You can use pretrained word vectors like Glove, but not pretrained large models like BERT.**"
   ]
  },
  {
   "cell_type": "markdown",
   "metadata": {
    "collapsed": false
   },
   "source": [
    "# 1. Setup"
   ]
  },
  {
   "cell_type": "code",
   "execution_count": 10,
   "metadata": {},
   "outputs": [
    {
     "name": "stdout",
     "output_type": "stream",
     "text": [
      "The autoreload extension is already loaded. To reload it, use:\n",
      "  %reload_ext autoreload\n",
      "env: CUDA_VISIBLE_DEVICES=1\n"
     ]
    }
   ],
   "source": [
    "# setup code\n",
    "%load_ext autoreload\n",
    "%autoreload 2\n",
    "%env CUDA_VISIBLE_DEVICES = 1\n",
    "import os\n",
    "import pickle\n",
    "import numpy as np\n",
    "import re\n",
    "from sklearn.cluster import KMeans\n",
    "from sklearn.feature_extraction.text import TfidfVectorizer"
   ]
  },
  {
   "cell_type": "code",
   "execution_count": 11,
   "metadata": {
    "collapsed": false
   },
   "outputs": [
    {
     "name": "stdout",
     "output_type": "stream",
     "text": [
      "经济学家吴敬琏为什么反对“不惜代价发展芯片产业”？\n",
      "颜值很高的她，一双美腿甚至可以让人忽略她的颜值\n",
      "转自常德诗人”再访桃花源“（再续心灵故乡的故事）\n",
      "虎牙拼杀四年抢得游戏直播第一股 但真正的挑战才刚开始\n",
      "如何评价许鞍华导演？她的电影为什么总能给人以触动？\n",
      "Total number of news: 83360\n"
     ]
    }
   ],
   "source": [
    "dataset_path = 'kmeans_news.pkl'\n",
    "\n",
    "all_data = None\n",
    "with open(dataset_path,'rb') as fin:\n",
    "    all_data = pickle.load(fin)\n",
    "    all_data_np = np.array(all_data)\n",
    "\n",
    "print ('\\n'.join(all_data[0:5]))\n",
    "print ('Total number of news: {}'.format(len(all_data)))"
   ]
  },
  {
   "cell_type": "markdown",
   "metadata": {
    "collapsed": false
   },
   "source": [
    "# 2. Exploratory Data Analysis\n",
    "\n",
    "Not all data within the dataset is suitable for clustering. You might need to filter and process some of them in advance."
   ]
  },
  {
   "cell_type": "code",
   "execution_count": 12,
   "metadata": {},
   "outputs": [
    {
     "name": "stdout",
     "output_type": "stream",
     "text": [
      "Total number of news: 83360\n",
      "\n",
      "Original samples:\n",
      "经济学家吴敬琏为什么反对“不惜代价发展芯片产业”？\n",
      "颜值很高的她，一双美腿甚至可以让人忽略她的颜值\n",
      "转自常德诗人”再访桃花源“（再续心灵故乡的故事）\n",
      "\n",
      "Cleaned samples:\n",
      "经济学家吴敬琏为什么反对 不惜代价发展芯片产业\n",
      "颜值很高的她 一双美腿甚至可以让人忽略她的颜值\n",
      "转自常德诗人 再访桃花源 再续心灵故乡的故事\n"
     ]
    }
   ],
   "source": [
    "# 2. 数据加载和清洗\n",
    "dataset_path = 'kmeans_news.pkl'\n",
    "\n",
    "def clean_text(text):\n",
    "    text = re.sub(r'[^\\w\\s]', ' ', text)\n",
    "    text = ' '.join(text.split())\n",
    "    return text.lower()\n",
    "\n",
    "# 加载数据\n",
    "with open(dataset_path,'rb') as fin:\n",
    "    all_data = pickle.load(fin)\n",
    "    all_data_np = np.array(all_data)\n",
    "\n",
    "# 清洗数据\n",
    "cleaned_data = [clean_text(news) for news in all_data]\n",
    "\n",
    "print('Total number of news:', len(all_data))\n",
    "print('\\nOriginal samples:')\n",
    "print('\\n'.join(all_data[0:3]))\n",
    "print('\\nCleaned samples:')\n",
    "print('\\n'.join(cleaned_data[0:3]))"
   ]
  },
  {
   "cell_type": "markdown",
   "metadata": {},
   "source": [
    "# 3. Get embeddings for the news\n",
    "\n",
    "We need to convert the news titles into some kind of numerical representation (embedding) before we can do clustering on them. Below are two ways to get embeddings for a paragraph of text:\n",
    "\n",
    "1. **Pretrained word embeddings**: You can use pretrained word embeddings like Glove to get embeddings for each word in the news, and then average them (or try some more advanced techniques) to get the news embedding.\n",
    "\n",
    "2. **General text embedding models**: You can use general text embedding models to get embedding for a sentence directly.\n",
    "\n",
    "You can choose either of them to convert the news titles into embeddings."
   ]
  },
  {
   "cell_type": "code",
   "execution_count": 13,
   "metadata": {},
   "outputs": [
    {
     "name": "stdout",
     "output_type": "stream",
     "text": [
      "Found existing installation: scipy 1.11.4\n",
      "Uninstalling scipy-1.11.4:\n",
      "  Successfully uninstalled scipy-1.11.4\n",
      "Found existing installation: gensim 4.3.3\n",
      "Uninstalling gensim-4.3.3:\n",
      "  Successfully uninstalled gensim-4.3.3\n"
     ]
    },
    {
     "name": "stderr",
     "output_type": "stream",
     "text": [
      "WARNING: Failed to remove contents in a temporary directory 'C:\\Users\\13004\\anaconda3\\Lib\\site-packages\\~~ipy'.\n",
      "You can safely remove it manually.\n",
      "WARNING: Failed to remove contents in a temporary directory 'C:\\Users\\13004\\anaconda3\\Lib\\site-packages\\~ensim'.\n",
      "You can safely remove it manually.\n"
     ]
    },
    {
     "name": "stdout",
     "output_type": "stream",
     "text": [
      "Collecting scipy==1.11.4\n",
      "  Using cached scipy-1.11.4-cp312-cp312-win_amd64.whl.metadata (60 kB)\n",
      "Requirement already satisfied: numpy<1.28.0,>=1.21.6 in c:\\users\\13004\\anaconda3\\lib\\site-packages (from scipy==1.11.4) (1.26.4)\n",
      "Using cached scipy-1.11.4-cp312-cp312-win_amd64.whl (43.7 MB)\n",
      "Installing collected packages: scipy\n",
      "Successfully installed scipy-1.11.4\n",
      "Collecting gensim\n",
      "  Using cached gensim-4.3.3-cp312-cp312-win_amd64.whl.metadata (8.2 kB)\n",
      "Using cached gensim-4.3.3-cp312-cp312-win_amd64.whl (24.0 MB)\n",
      "Installing collected packages: gensim\n",
      "Successfully installed gensim-4.3.3\n",
      "Requirement already satisfied: nltk in c:\\users\\13004\\anaconda3\\lib\\site-packages (3.8.1)\n",
      "Requirement already satisfied: click in c:\\users\\13004\\anaconda3\\lib\\site-packages (from nltk) (8.1.7)\n",
      "Requirement already satisfied: joblib in c:\\users\\13004\\anaconda3\\lib\\site-packages (from nltk) (1.4.2)\n",
      "Requirement already satisfied: regex>=2021.8.3 in c:\\users\\13004\\anaconda3\\lib\\site-packages (from nltk) (2023.10.3)\n",
      "Requirement already satisfied: tqdm in c:\\users\\13004\\anaconda3\\lib\\site-packages (from nltk) (4.66.4)\n",
      "Requirement already satisfied: colorama in c:\\users\\13004\\anaconda3\\lib\\site-packages (from click->nltk) (0.4.6)\n"
     ]
    },
    {
     "name": "stderr",
     "output_type": "stream",
     "text": [
      "[nltk_data] Downloading package punkt to\n",
      "[nltk_data]     C:\\Users\\13004\\AppData\\Roaming\\nltk_data...\n",
      "[nltk_data]   Package punkt is already up-to-date!\n"
     ]
    }
   ],
   "source": [
    "# 1. 首先卸载可能冲突的包\n",
    "!pip uninstall -y scipy gensim\n",
    "\n",
    "# 2. 安装指定版本的 scipy\n",
    "!pip install scipy==1.11.4\n",
    "\n",
    "# 3. 安装 gensim（使用 --no-deps 避免依赖冲突）\n",
    "!pip install --no-deps gensim\n",
    "\n",
    "# 4. 安装 nltk\n",
    "!pip install nltk\n",
    "\n",
    "# 5. 重启内核后，运行以下代码\n",
    "import gensim.downloader as api\n",
    "import numpy as np\n",
    "from nltk.tokenize import word_tokenize\n",
    "import nltk\n",
    "nltk.download('punkt')\n",
    "\n",
    "# 加载预训练的GloVe词向量\n",
    "word_vectors = api.load('glove-wiki-gigaword-100')  # 使用100维的GloVe向量"
   ]
  },
  {
   "cell_type": "code",
   "execution_count": 9,
   "metadata": {},
   "outputs": [
    {
     "name": "stderr",
     "output_type": "stream",
     "text": [
      "[nltk_data] Downloading package punkt to\n",
      "[nltk_data]     C:\\Users\\13004\\AppData\\Roaming\\nltk_data...\n",
      "[nltk_data]   Package punkt is already up-to-date!\n"
     ]
    },
    {
     "name": "stdout",
     "output_type": "stream",
     "text": [
      "Total number of news: 83360\n",
      "Sample of first 5 news:\n",
      "经济学家吴敬琏为什么反对“不惜代价发展芯片产业”？\n",
      "颜值很高的她，一双美腿甚至可以让人忽略她的颜值\n",
      "转自常德诗人”再访桃花源“（再续心灵故乡的故事）\n",
      "虎牙拼杀四年抢得游戏直播第一股 但真正的挑战才刚开始\n",
      "如何评价许鞍华导演？她的电影为什么总能给人以触动？\n",
      "Embeddings shape: (83360, 100)\n"
     ]
    }
   ],
   "source": [
    "# 4. 计算TF-IDF权重\n",
    "tfidf = TfidfVectorizer()\n",
    "tfidf_matrix = tfidf.fit_transform(cleaned_data)\n",
    "word_to_tfidf = dict(zip(tfidf.get_feature_names_out(), tfidf.idf_))\n",
    "\n",
    "# 5. 定义加权句子嵌入函数\n",
    "def get_weighted_sentence_embedding(sentence, tfidf_weights):\n",
    "    tokens = word_tokenize(sentence.lower())\n",
    "    weighted_vectors = []\n",
    "    \n",
    "    for token in tokens:\n",
    "        if token in word_vectors and token in tfidf_weights:\n",
    "            weighted_vectors.append(word_vectors[token] * tfidf_weights[token])\n",
    "    \n",
    "    if not weighted_vectors:\n",
    "        return np.zeros(100)\n",
    "    \n",
    "    return np.mean(weighted_vectors, axis=0)\n",
    "\n",
    "# 6. 为所有新闻生成加权embedding\n",
    "sentence_embeddings = np.array([\n",
    "    get_weighted_sentence_embedding(news, word_to_tfidf) \n",
    "    for news in cleaned_data\n",
    "])\n",
    "\n",
    "print(f\"Embeddings shape: {sentence_embeddings.shape}\")"
   ]
  },
  {
   "cell_type": "markdown",
   "metadata": {},
   "source": [
    "# 4. Clustering"
   ]
  },
  {
   "cell_type": "markdown",
   "metadata": {},
   "source": [
    "Do K-means clustering"
   ]
  },
  {
   "cell_type": "code",
   "execution_count": 6,
   "metadata": {},
   "outputs": [],
   "source": [
    "from sklearn.cluster import KMeans\n",
    "\n",
    "clusters = 15\n",
    "kmeans = KMeans(n_clusters=clusters, random_state=0).fit(sentence_embeddings)\n",
    "\n"
   ]
  },
  {
   "cell_type": "markdown",
   "metadata": {},
   "source": [
    "View samples in each cluster"
   ]
  },
  {
   "cell_type": "code",
   "execution_count": 12,
   "metadata": {},
   "outputs": [
    {
     "name": "stdout",
     "output_type": "stream",
     "text": [
      "Cluster 0 has 72824 sentences\n",
      "5月11号英雄联盟MSI，RNG遗憾输给了KZ，怎么评价本局比赛？\n",
      "中国境内竟还有一支美国军队？差点被遣送回国，外交部长亲自担保\n",
      "杨幂加盟《奇葩说》网友：她不配！结果第一期辩题就被打脸了\n",
      "Embraer X发布首款电动垂直起降飞行器概念产品\n",
      "农村大姐做的农家饭、农家菜、野菜茶，绿色健康有营养\n",
      "\n",
      "Cluster 1 has 8536 sentences\n",
      "DOTA回忆录：那个“开挂”的幽鬼王\n",
      "「灵雀云」获英特尔战略投资，强调“云原生”是未来趋势\n",
      "狗不理包子“凉了”\n",
      "“古建筑博物馆”——秀山公园\n",
      "升格“盐城大学”遥遥无期！能否组建“江苏工业大学”？\n",
      "\n",
      "Cluster 2 has 635 sentences\n",
      "预计今年CPI同比涨幅在2%左右 猪肉价格仍将低位运行\n",
      "龙光地产前四月合约销售额206.6亿元 同比大增80.8%\n",
      "曹国伟大幅减持新浪股权 投票权却增至55.9%\n",
      "特朗普提议对美国进口汽车征收20%关税\n",
      "5月1号以后能不能开具17%、11%增值税发票？怎么处理报税问题？\n",
      "\n",
      "Cluster 3 has 131 sentences\n",
      "\"操纵股票被罚1.29亿\"主持人：认错并按要求缴罚款\n",
      "日本的\"浪人\"是什么人？\n",
      "\"天之骄子\"苹果之父乔布斯小女儿伊娃的\"火辣艺术之路\"\n",
      "遇到了\"呼死你\"怎么办？\n",
      "广州外国语学校招生采取\"人机对话\"，什么是人机对话？\n",
      "\n",
      "Cluster 4 has 133 sentences\n",
      "海尔电器(01169.HK)：杨光获委任非执行董事及战略委员会成员\n",
      "还在傻傻打工？大咖告诉你未来五大行业可以改变命运，震撼！(8)\n",
      "新股暗盘 | 和铂医药-B(02142)暗盘破发 此前一度大涨超27%\n",
      "旭辉永升服务(01995.HK）成立市拓小组，多业态结硕果献礼上市两周年\n",
      "中国中车(01766)重组货车业务成立齐车集团\n",
      "\n",
      "Cluster 5 has 118 sentences\n",
      "王室风云:又一个英王室Big Day 新王妃将穿近百万婚纱\n",
      "上联:霜打秋菊香更烈，如何对下联？\n",
      "上联:百年恩爱双心结，求下联？\n",
      "《知否》原著:王舅母—忍辱半生，终于摆脱恶毒小姑子，苦尽甘来\n",
      "上联:人生不易风风雨雨，怎么对下联？\n",
      "\n",
      "Cluster 6 has 228 sentences\n",
      "Android 8.0份额大增，谷歌：多亏这些中国厂商太配合\n",
      "十年最大革新 Android P测试版来袭 小米OV都能尝鲜！\n",
      "mm2与韩国CJ E&M 合拍六部东南亚电影\n",
      "IDC 2018Q1中国手机市场报告：华为稳居第一\n",
      "没有 Python，微软宣布 Excel 新增 JavaScript 支持\n",
      "\n",
      "Cluster 7 has 46 sentences\n",
      "三寻古轘辕关，在嵩山深处遇见与世隔绝的人#自驾在路上#\n",
      "#CBA# 杨鸣生气的样子好可怕！辽宁主帅怒吼：我不知道你俩在干什么\n",
      "炒股人生之巅峰，炒股人生之低谷。#股票#\n",
      "#应许之地#以色列人是否对中国人十分友好？\n",
      "影评下午茶之《#幕后玩家#》\n",
      "\n",
      "Cluster 8 has 169 sentences\n",
      "小途昂正式命名为THARU, 斯柯达研发，或14万起，这车要火\n",
      "准备入手天籁,车主们说说这车怎么样，油耗高吗？\n",
      "八代外星人与ROG, 不怕性能不发烧，就怕你没钱？\n",
      "世界公司赚钱排行榜：工商银行第4, 丰田第13, 第一是？\n",
      "小说：夫妻关系再好,也不能谈论这个话题,可惜95%的妻子都中招了\n",
      "\n",
      "Cluster 9 has 85 sentences\n",
      "德国因新冠病毒死亡人数创新高，默克尔支持更严格的限制措施 | 悦读全球\n",
      "Uber无人车撞死行人事件出结果：为软件bug所致 | 5月8日坏消息榜\n",
      "头条 | 中国光伏的前浪与后浪（上篇）\n",
      "新车 | 带货家用两不耽误！SWM斯威X2正式上市\n",
      "幼小衔接 | 一位一年级妈妈写给幼儿园毕业班家长的信\n",
      "\n",
      "Cluster 10 has 5 sentences\n",
      "FF 91抵达北京，为国产做准备\n",
      "FF 全面登陆中国：FF 91抵京 销售公司已到位\n",
      "FF 91抵达北京为国产做准备 贾跃亭要归来了？\n",
      "FF 91抵达北京，为国产做准备\n",
      "FF 四周年内部信：4年时间从拓荒者成为引领者\n",
      "\n",
      "Cluster 11 has 120 sentences\n",
      "门槛继续走高！大郑州4月份房地产最新排名TOP20!\n",
      "【5G科技说】基站辐射到底有多大？看完这些你就都明白了!\n",
      "开车水平高不高, 1个动作就能体现出来!\n",
      "《Love Live! 学园偶像祭》2018全国大会北京复赛圆满落幕\n",
      "他写了半辈子的好词，却始终赢不了一个人的心 !\n",
      "\n",
      "Cluster 12 has 44 sentences\n",
      "可爱日语&时尚韩语，你更中意哪一个？-2018暑期不仅学还有玩哦\n",
      "中国新歌声诸暨赛区恒大悦珑府&恒大御澜庭专场！只等爱音乐的你！\n",
      "太阳官推更新保罗&布克&艾顿定妆合照 美媒转发：新三巨头\n",
      "九年前的今天：联盟拒绝了黄蜂&火箭&湖人的三方交易申请\n",
      "易次元&网易漫画强势联动 漫画的另类打开方式\n",
      "\n",
      "Cluster 13 has 180 sentences\n",
      "《幕后玩家》A or B？黑色的秘密 or 灵魂的围城\n",
      "Running Man让人脸红的游戏，光洙和钟国的春天来了？\n",
      "Self-learning robots may soon inspect nuclear sites\n",
      "群智咨询受邀出席洛杉矶SID Display Week并将发表前瞻性演讲\n",
      "Wells Fargo下调科蒂评级为减持\n",
      "\n",
      "Cluster 14 has 106 sentences\n",
      "400%增速奔跑三年，社交电商云集逼近零售第三极\n",
      "比尔·盖茨送女儿$1600万的马场当毕业礼物！果然是别人家的爸爸\n",
      "神秘地王横空出世！溢价率超127%!未来区域房价有多高？\n",
      "实店探访北京(BJ)40 PLUS 解读越野向往者的专享座驾\n",
      "波士顿动力计划 2019 年实现商用；SpaceX 猎鹰 9 号「终极版」首飞成功丨一周硬资讯\n",
      "\n"
     ]
    }
   ],
   "source": [
    "random_sample = True\n",
    "for i in range(clusters):\n",
    "    print(f'Cluster {i} has {np.sum(kmeans.labels_ == i)} sentences')\n",
    "    if random_sample:\n",
    "        print('\\n'.join(all_data_np[np.random.choice(np.where(kmeans.labels_ == i)[0], 5)]))\n",
    "    else:\n",
    "        print('\\n'.join(all_data_np[kmeans.labels_ == i][0:5]))\n",
    "    print('')"
   ]
  },
  {
   "cell_type": "code",
   "execution_count": 13,
   "metadata": {},
   "outputs": [
    {
     "name": "stderr",
     "output_type": "stream",
     "text": [
      "[nltk_data] Downloading package stopwords to\n",
      "[nltk_data]     C:\\Users\\13004\\AppData\\Roaming\\nltk_data...\n",
      "[nltk_data]   Unzipping corpora\\stopwords.zip.\n"
     ]
    },
    {
     "name": "stdout",
     "output_type": "stream",
     "text": [
      "\n",
      "Cluster 0 (72824 articles)\n",
      "Top keywords: oppo(16), 俄罗斯一武装直升机在叙利亚坠毁(9), 说一段曹操墓的闲话(9), 2018(8), 王者荣耀(7), 申通员工降薪最狠(6), 楼市调控政策今年已发上百个(6), 实拍(6), 中国赠送马克思雕像在德国特里尔揭幕(5), 特朗普宣布退出伊核协议(5)\n",
      "\n",
      "Cluster 1 (8536 articles)\n",
      "Top keywords: 农村俗语(24), 和(24), 农村老话(23), 活动(23), 与(23), 人造猪肉(22), 从(22), 中国(20), 到(20), 了(20)\n",
      "\n",
      "Cluster 2 (635 articles)\n",
      "Top keywords: 从20(10), 关税(6), 以上(6), 左右(4), 企业工资指导线迎密集调整(4), 股权(4), 京东健康上市次日涨2(4), 市值站稳3500亿港元(4), 外贸延续稳中向好(3), 平均涨幅将超过7(3)\n",
      "\n",
      "Cluster 3 (131 articles)\n",
      "Top keywords: 死(3), 5g芯片(3), 中兴通讯(3), 如何看待美国将长时间停止对(3), 白头盔(3), 发布(2), 北上广深不相信电单车(2), 共享单车终究走向(2), 水清则无鱼(2), 天之骄子(2)\n",
      "\n",
      "Cluster 4 (133 articles)\n",
      "Top keywords: 2(4), 光在处于收缩状态下的空间(3), 真空(3), 4(3), 评级(3), 1(3), 5(3), 股权(3), 8(3), 3(3)\n",
      "\n",
      "Cluster 5 (118 articles)\n",
      "Top keywords: 上联(51), 下联(14), 对联(7), woj大神爆料(2), 首联(2), 上句(2), 李隼指导直言(2), 刺激战场(2), 复仇者联盟3的导演接受采访直言(1), 故事(1)\n",
      "\n",
      "Cluster 6 (228 articles)\n",
      "Top keywords: vs(17), iphone(14), vivo(12), 2018(8), google(8), p(8), android(7), x(5), ios(5), 360(4)\n",
      "\n",
      "Cluster 7 (46 articles)\n",
      "Top keywords: 应许之地(5), 股票(4), cba(3), 厉害了我的海军(2), 梅西c罗成为实况足球2021封面球星(2), a股(2), 2020广州车展(2), 共享经济(1), 马化腾朋友圈(1), 惋惜(1)\n",
      "\n",
      "Cluster 8 (169 articles)\n",
      "Top keywords: 现在美国满世界卖f35(6), 解读(3), 阿里巴巴每天纳税一亿(3), 腾讯王者荣耀每天一亿(3), 内外交困的内塔尼亚胡(2), 每年缴天价租金(2), h2s(2), 勇士vs鹈鹕g5(2), 在(2), 带动发展(2)\n",
      "\n",
      "Cluster 9 (85 articles)\n",
      "Top keywords: 新车(16), 夜读(5), 古镇人的小康③(3), 住有所居(3), 安居乐业(3), 市场要闻(2), 最前线(2), 头条(2), 科普(2), 风雨看盘(1)\n",
      "\n",
      "Cluster 10 (5 articles)\n",
      "Top keywords: ff(5), 91抵京(1), 销售公司已到位(1), 91抵达北京为国产做准备(1)\n",
      "\n",
      "Cluster 11 (120 articles)\n",
      "Top keywords: 低速宇航可能实现吗(2), 聪明可爱的迷你马(1), 袖珍马(1), 多少钱一匹(1), 赚钱吗(1), 利润与成本怎么样(1), 铁皮越厚越安全(1), 雷克萨斯表示不服(1), 娱乐圈哪些明星英语说得好(1), 懂车的购车会选择白颜色的车辆(1)\n",
      "\n",
      "Cluster 12 (44 articles)\n",
      "Top keywords: middot(2), 火箭(2), 湖人的三方交易申请(2), 民宿(2), 准独角兽企业榜发布(2), 太阳官推更新保罗(2), 布克(2), 艾顿定妆合照(2), 母亲节感恩季(2), 博科资讯项目启动会圆满举行(1)\n",
      "\n",
      "Cluster 13 (180 articles)\n",
      "Top keywords: 2018(11), met(10), gala(7), one(3), build(3), show(3), nba(3), windows(2), lady(2), china(2)\n",
      "\n",
      "Cluster 14 (106 articles)\n",
      "Top keywords: 4(6), 9(5), 3(4), 70(4), nine(4), 80(3), 5(3), plus(3), 2(3), percent上海首秀(3)\n",
      "\n",
      "=== Clustering Quality Metrics ===\n",
      "Silhouette Score: 0.982\n",
      "Calinski-Harabasz Score: 86311.569\n"
     ]
    }
   ],
   "source": [
    "# 1. 分析每个聚类的主题特征\n",
    "from collections import Counter\n",
    "from nltk.corpus import stopwords\n",
    "nltk.download('stopwords')\n",
    "stop_words = set(stopwords.words('english'))\n",
    "\n",
    "def get_cluster_keywords(cluster_texts, top_n=10):\n",
    "    # 将所有文本合并并分词\n",
    "    words = []\n",
    "    for text in cluster_texts:\n",
    "        tokens = word_tokenize(text.lower())\n",
    "        # 去除停用词和标点符号\n",
    "        words.extend([word for word in tokens if word.isalnum() and word not in stop_words])\n",
    "    \n",
    "    # 获取最常见的词\n",
    "    return Counter(words).most_common(top_n)\n",
    "\n",
    "# 分析每个聚类的关键词\n",
    "for i in range(clusters):\n",
    "    cluster_texts = all_data_np[kmeans.labels_ == i]\n",
    "    keywords = get_cluster_keywords(cluster_texts)\n",
    "    print(f\"\\nCluster {i} ({len(cluster_texts)} articles)\")\n",
    "    print(\"Top keywords:\", ', '.join([f\"{word}({count})\" for word, count in keywords]))\n",
    "\n",
    "# 2. 评估聚类质量\n",
    "from sklearn.metrics import silhouette_score, calinski_harabasz_score\n",
    "\n",
    "silhouette_avg = silhouette_score(sentence_embeddings, kmeans.labels_)\n",
    "calinski_harabasz_avg = calinski_harabasz_score(sentence_embeddings, kmeans.labels_)\n",
    "\n",
    "print(\"\\n=== Clustering Quality Metrics ===\")\n",
    "print(f\"Silhouette Score: {silhouette_avg:.3f}\")\n",
    "print(f\"Calinski-Harabasz Score: {calinski_harabasz_avg:.3f}\")"
   ]
  },
  {
   "cell_type": "code",
   "execution_count": null,
   "metadata": {},
   "outputs": [],
   "source": [
    "# 找到最优聚类数量\n",
    "def find_optimal_clusters(embeddings, max_clusters=20):\n",
    "    silhouette_scores = []\n",
    "    for n_clusters in range(2, max_clusters+1):\n",
    "        kmeans = KMeans(n_clusters=n_clusters, random_state=0)\n",
    "        cluster_labels = kmeans.fit_predict(embeddings)\n",
    "        silhouette_avg = silhouette_score(embeddings, cluster_labels)\n",
    "        silhouette_scores.append(silhouette_avg)\n",
    "    \n",
    "    optimal_clusters = np.argmax(silhouette_scores) + 2\n",
    "    return optimal_clusters\n",
    "\n",
    "# 使用最优聚类数量\n",
    "optimal_clusters = find_optimal_clusters(sentence_embeddings)\n",
    "print(f\"Optimal number of clusters: {optimal_clusters}\")\n",
    "\n",
    "# 使用最优聚类数量进行聚类\n",
    "kmeans = KMeans(n_clusters=optimal_clusters, random_state=0).fit(sentence_embeddings)"
   ]
  },
  {
   "cell_type": "code",
   "execution_count": 14,
   "metadata": {},
   "outputs": [
    {
     "data": {
      "image/png": "[encoded data removed]",
      "text/plain": [
       "<Figure size 1000x1000 with 2 Axes>"
      ]
     },
     "metadata": {},
     "output_type": "display_data"
    }
   ],
   "source": [
    "# 使用t-SNE进行降维可视化\n",
    "from sklearn.manifold import TSNE\n",
    "import matplotlib.pyplot as plt\n",
    "\n",
    "# 降维到2D\n",
    "tsne = TSNE(n_components=2, random_state=0)\n",
    "embeddings_2d = tsne.fit_transform(sentence_embeddings)\n",
    "\n",
    "# 绘制散点图\n",
    "plt.figure(figsize=(10, 10))\n",
    "scatter = plt.scatter(embeddings_2d[:, 0], embeddings_2d[:, 1], \n",
    "                     c=kmeans.labels_, cmap='tab20')\n",
    "plt.colorbar(scatter)\n",
    "plt.title('t-SNE visualization of news clusters')\n",
    "plt.show()"
   ]
  }
 ],
 "metadata": {
  "kernelspec": {
   "display_name": "base",
   "language": "python",
   "name": "python3"
  },
  "language_info": {
   "codemirror_mode": {
    "name": "ipython",
    "version": 3
   },
   "file_extension": ".py",
   "mimetype": "text/x-python",
   "name": "python",
   "nbconvert_exporter": "python",
   "pygments_lexer": "ipython3",
   "version": "3.12.4"
  },
  "vscode": {
   "interpreter": {
    "hash": "30172d9a6c643631a2bbd2ccafbdc7b25d01eada6cb60dcb8ec3809d296c4202"
   }
  }
 },
 "nbformat": 4,
 "nbformat_minor": 1
}
